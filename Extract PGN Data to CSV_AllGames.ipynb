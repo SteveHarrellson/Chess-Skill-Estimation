{
 "cells": [
  {
   "cell_type": "code",
   "execution_count": 1,
   "metadata": {},
   "outputs": [],
   "source": [
    "import chess\n",
    "import chess.pgn\n",
    "import pandas as pd\n",
    "import numpy as np"
   ]
  },
  {
   "cell_type": "markdown",
   "metadata": {},
   "source": [
    "Specify file to open\n",
    "Open it\n",
    "Use the header to determine which player is computer\n",
    "Find specified board position\n",
    "Extract FEN\n",
    "add to dataframe\n",
    "    -Who wins\n",
    "    -Name of players\n",
    "    -Who is bot\n",
    "    -Player ELO"
   ]
  },
  {
   "cell_type": "code",
   "execution_count": 2,
   "metadata": {},
   "outputs": [],
   "source": [
    "Standard_10 = 'Data_2\\\\Standard 1000-1199'\n",
    "Standard_12 = 'Data_2\\\\Standard 1200-1399'\n",
    "Standard_14 = 'Data_2\\\\Standard 1400-1599'\n",
    "Standard_16 = 'Data_2\\\\Standard 1600-1799'\n",
    "Standard_18 = 'Data_2\\\\Standard 1800-1999'\n",
    "Standard_20 = 'Data_2\\\\Standard 2000-2199'\n",
    "Standard_22 = 'Data_2\\\\Standard 2200-2399'\n",
    "Standard_24 = 'Data_2\\\\Standard 2400-2599'\n",
    "Standard_26 = 'Data_2\\\\Standard 2600 plus'\n",
    "\n",
    "Data_Directory_List = [Standard_10,\n",
    "                       Standard_12,\n",
    "                       Standard_14,\n",
    "                       Standard_16,\n",
    "                       Standard_18,\n",
    "                       Standard_20,\n",
    "                       Standard_22,\n",
    "                       Standard_24,\n",
    "                       Standard_26]"
   ]
  },
  {
   "cell_type": "code",
   "execution_count": 3,
   "metadata": {},
   "outputs": [],
   "source": [
    "Data_dict = {\n",
    "    \"White\":[],\n",
    "    \"Black\":[],\n",
    "    \"Winner\":[],\n",
    "    \"White is Computer\":[],\n",
    "    \"Black is Computer\":[],\n",
    "    \"White ELO\":[],\n",
    "    \"Black ELO\":[],\n",
    "    \"Move FEN\":[],\n",
    "    \"Move Number\":[]\n",
    "}"
   ]
  },
  {
   "cell_type": "code",
   "execution_count": 4,
   "metadata": {},
   "outputs": [],
   "source": [
    "def Valid(header_in):\n",
    "    if (header_in[\"Event\"] == 'FICS unrated standard game' or\n",
    "       header_in[\"Event\"] == 'FICS rated standard game'):\n",
    "        return True"
   ]
  },
  {
   "cell_type": "code",
   "execution_count": 5,
   "metadata": {},
   "outputs": [],
   "source": [
    "def Browse_Games(pgn):\n",
    "    game = chess.pgn.read_game(pgn)\n",
    "    ticker = 0\n",
    "    #initialize data_dict\n",
    "    data_out = {\n",
    "    \"White\":[],\n",
    "    \"Black\":[],\n",
    "    \"Winner\":[],\n",
    "    \"White is Computer\":[],\n",
    "    \"Black is Computer\":[],\n",
    "    \"White ELO\":[],\n",
    "    \"Black ELO\":[],\n",
    "    \"Move FEN\":[],\n",
    "    \"Move Number\":[]\n",
    "    }\n",
    "    while game and len(data_out[\"White\"])<5000:\n",
    "        header = game.headers\n",
    "        board = game.board()\n",
    "        ticker += 1\n",
    "        if Valid(header):\n",
    "            for i, move in enumerate(game.mainline_moves()):\n",
    "                board.push(move)\n",
    "                if i == 40: #Collect only the 30th move, but we can of course use other values\n",
    "                    data_out[\"White\"].append(header.get(\"White\",\"None\"))\n",
    "                    data_out[\"Black\"].append(header.get(\"Black\",\"None\"))\n",
    "                    data_out[\"Winner\"].append(header.get(\"Result\",\"None\"))\n",
    "                    data_out[\"White is Computer\"].append(header.get(\"WhiteIsComp\",\"None\") == \"Yes\")\n",
    "                    data_out[\"Black is Computer\"].append(header.get(\"BlackIsComp\",\"None\") == \"Yes\")\n",
    "                    data_out[\"White ELO\"].append(header.get(\"WhiteElo\",\"None\"))\n",
    "                    data_out[\"Black ELO\"].append(header.get(\"BlackElo\",\"None\"))\n",
    "                    data_out[\"Move FEN\"].append(board.board_fen())\n",
    "                    data_out[\"Move Number\"].append(i)\n",
    "        #iterate game\n",
    "        game = chess.pgn.read_game(pgn)\n",
    "        \n",
    "    return data_out"
   ]
  },
  {
   "cell_type": "code",
   "execution_count": 6,
   "metadata": {},
   "outputs": [],
   "source": [
    "for dirs in Data_Directory_List:\n",
    "    pgn = open(dirs + '\\All Games.pgn')\n",
    "    game = chess.pgn.read_game(pgn)\n",
    "    ticker = 0\n",
    "    while game and ticker < 500:\n",
    "        ticker += 1\n",
    "        Data = pd.DataFrame.from_dict(Browse_Games(pgn))\n",
    "        if len(Data) > 5:\n",
    "            Data.to_csv(dirs + '\\Round' + ' ' + str(ticker) + '.csv',index = False)\n"
   ]
  }
 ],
 "metadata": {
  "kernelspec": {
   "display_name": "Python 3",
   "language": "python",
   "name": "python3"
  },
  "language_info": {
   "codemirror_mode": {
    "name": "ipython",
    "version": 3
   },
   "file_extension": ".py",
   "mimetype": "text/x-python",
   "name": "python",
   "nbconvert_exporter": "python",
   "pygments_lexer": "ipython3",
   "version": "3.8.5"
  }
 },
 "nbformat": 4,
 "nbformat_minor": 4
}
