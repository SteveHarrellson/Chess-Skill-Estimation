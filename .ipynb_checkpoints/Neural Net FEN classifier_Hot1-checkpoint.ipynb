{
 "cells": [
  {
   "cell_type": "markdown",
   "metadata": {},
   "source": [
    "Load the FEN data, define the test_train dataset, and pass to a neural net"
   ]
  },
  {
   "cell_type": "code",
   "execution_count": 1,
   "metadata": {},
   "outputs": [
    {
     "name": "stderr",
     "output_type": "stream",
     "text": [
      "D:\\Anaconda\\lib\\site-packages\\requests\\__init__.py:89: RequestsDependencyWarning: urllib3 (1.26.11) or chardet (3.0.4) doesn't match a supported version!\n",
      "  warnings.warn(\"urllib3 ({}) or chardet ({}) doesn't match a supported \"\n"
     ]
    }
   ],
   "source": [
    "import pandas as pd\n",
    "import numpy as np\n",
    "import tensorflow as tf\n",
    "from tensorflow import keras\n",
    "import sklearn as sk\n",
    "from sklearn.model_selection import train_test_split\n",
    "import os \n",
    "import matplotlib.pyplot as plt\n",
    "from sklearn.decomposition import PCA"
   ]
  },
  {
   "cell_type": "code",
   "execution_count": 2,
   "metadata": {},
   "outputs": [],
   "source": [
    "Dataset_10 = pd.read_csv('D:\\\\Chess Portfolio Project\\\\BigDataset\\\\Chess_Data_round2\\\\Standard 1000-1199\\\\FEN_Dataframe_MiddleGame.csv')\n",
    "Dataset_12 = pd.read_csv('D:\\\\Chess Portfolio Project\\\\BigDataset\\\\Chess_Data_round2\\\\Standard 1200-1399\\\\FEN_Dataframe_MiddleGame.csv')\n",
    "Dataset_14 = pd.read_csv('D:\\\\Chess Portfolio Project\\\\BigDataset\\\\Chess_Data_round2\\\\Standard 1400-1599\\\\FEN_Dataframe_MiddleGame.csv')\n",
    "Dataset_16 = pd.read_csv('D:\\\\Chess Portfolio Project\\\\BigDataset\\\\Chess_Data_round2\\\\Standard 1600-1799\\\\FEN_Dataframe_MiddleGame.csv')\n",
    "Dataset_18 = pd.read_csv('D:\\\\Chess Portfolio Project\\\\BigDataset\\\\Chess_Data_round2\\\\Standard 1800-1999\\\\FEN_Dataframe_MiddleGame.csv')\n",
    "Dataset_20 = pd.read_csv('D:\\\\Chess Portfolio Project\\\\BigDataset\\\\Chess_Data_round2\\\\Standard 2000-2199\\\\FEN_Dataframe_MiddleGame.csv')\n",
    "Dataset_22 = pd.read_csv('D:\\\\Chess Portfolio Project\\\\BigDataset\\\\Chess_Data_round2\\\\Standard 2200-2399\\\\FEN_Dataframe_MiddleGame.csv')\n",
    "Dataset_24 = pd.read_csv('D:\\\\Chess Portfolio Project\\\\BigDataset\\\\Chess_Data_round2\\\\Standard 2400-2599\\\\FEN_Dataframe_MiddleGame.csv')\n",
    "\n",
    "\n",
    "Dataset_list = [Dataset_1100,\n",
    "               Dataset_1300,\n",
    "               Dataset_1500,\n",
    "               Dataset_1700,\n",
    "               Dataset_1900,\n",
    "               Dataset_2100,\n",
    "               Dataset_2300,\n",
    "               Dataset_2500,\n",
    "               Dataset_2600]"
   ]
  },
  {
   "cell_type": "code",
   "execution_count": 3,
   "metadata": {},
   "outputs": [],
   "source": [
    "#Dataset_list = [Dataset_2100,\n",
    " #              Dataset_2300]"
   ]
  },
  {
   "cell_type": "code",
   "execution_count": 4,
   "metadata": {},
   "outputs": [],
   "source": [
    "def Feature_Label_Extraction(df_in,num_of_examples = 35000):\n",
    "    df_out = df_in[0:num_of_examples]\n",
    "    df_out_feature = df_out.iloc[:,1:65]\n",
    "    df_out_label = df_out.iloc[:,67]\n",
    "    return df_out_feature , df_out_label\n",
    "    \n",
    "def Prepare_Datasets(dataset_list):\n",
    "    out_df_feature = pd.DataFrame()\n",
    "    out_df_label = pd.DataFrame()\n",
    "    for dataframe in dataset_list:\n",
    "        feature , label = Feature_Label_Extraction(dataframe)\n",
    "        out_df_feature = out_df_feature.append(feature,ignore_index=True)\n",
    "        #out_df_label = out_df_label.append(label,ignore_index = True)\n",
    "        out_df_label = pd.concat([out_df_label,label])\n",
    "        print(np.size(label))\n",
    "    return out_df_feature , out_df_label\n",
    "\n",
    "\n",
    "\n",
    "def Hot_1_encoder(df_in):\n",
    "    New_array = np.zeros([df_in.shape[0],df_in.shape[1]*13])\n",
    "    for i in range(df_in.shape[0]):\n",
    "        for j,val in enumerate(df_in.iloc[i][:]):\n",
    "            New_array[i,13*j+int(val)] = 1\n",
    "            \n",
    "    return New_array\n",
    "        \n",
    "\n",
    "\n",
    "    "
   ]
  },
  {
   "cell_type": "code",
   "execution_count": 21,
   "metadata": {},
   "outputs": [
    {
     "name": "stdout",
     "output_type": "stream",
     "text": [
      "35000\n",
      "35000\n",
      "35000\n",
      "35000\n",
      "35000\n",
      "35000\n",
      "35000\n",
      "35000\n",
      "35000\n"
     ]
    }
   ],
   "source": [
    "trainx, trainy = Prepare_Datasets(Dataset_list)"
   ]
  },
  {
   "cell_type": "code",
   "execution_count": 6,
   "metadata": {},
   "outputs": [
    {
     "data": {
      "text/plain": [
       " 0.0    260990\n",
       " 1.0     33064\n",
       "-1.0      5836\n",
       " 4.0      5259\n",
       " 9.0      5078\n",
       " 3.0      2082\n",
       "-9.0       765\n",
       "-3.0       653\n",
       " 5.0       637\n",
       "-4.0       440\n",
       "-5.0       190\n",
       " 2.0         6\n",
       "Name: ('FEN Array', 32), dtype: int64"
      ]
     },
     "execution_count": 6,
     "metadata": {},
     "output_type": "execute_result"
    }
   ],
   "source": [
    "trainx[\"('FEN Array', 32)\"].value_counts()"
   ]
  },
  {
   "cell_type": "code",
   "execution_count": 7,
   "metadata": {},
   "outputs": [],
   "source": [
    "# Try setting all piece values to 1, all empties to 0.  Completely agnostic net\n",
    "to_replace={0:0,\n",
    "           1:1,\n",
    "           2:2,\n",
    "           3:3,\n",
    "           4:4,\n",
    "           5:5,\n",
    "           9:6,\n",
    "           -1:7,\n",
    "           -2:8,\n",
    "           -3:9,\n",
    "           -4:10,\n",
    "           -5:11,\n",
    "           -9:12}\n",
    "\n",
    "\n",
    "trainx.replace(to_replace,inplace = True)\n",
    "\n",
    "\n"
   ]
  },
  {
   "cell_type": "code",
   "execution_count": 8,
   "metadata": {},
   "outputs": [
    {
     "data": {
      "text/plain": [
       "True     307383\n",
       "False      7617\n",
       "dtype: int64"
      ]
     },
     "execution_count": 8,
     "metadata": {},
     "output_type": "execute_result"
    }
   ],
   "source": [
    "#Eliminate duplicate positions\n",
    "mask_df = pd.DataFrame(~trainx.duplicated())\n",
    "listy = mask_df.index[mask_df[0]].to_list()\n",
    "mask_df.value_counts()"
   ]
  },
  {
   "cell_type": "code",
   "execution_count": 9,
   "metadata": {},
   "outputs": [],
   "source": [
    "trainx = trainx.iloc[listy]\n",
    "trainy = trainy.iloc[listy]"
   ]
  },
  {
   "cell_type": "code",
   "execution_count": 10,
   "metadata": {},
   "outputs": [],
   "source": [
    "#Normalize y\n",
    "trainy = (trainy- trainy.min())/(trainy.max()-trainy.min())"
   ]
  },
  {
   "cell_type": "code",
   "execution_count": 11,
   "metadata": {},
   "outputs": [],
   "source": [
    "trainx2 = Hot_1_encoder(trainx)"
   ]
  },
  {
   "cell_type": "code",
   "execution_count": 12,
   "metadata": {},
   "outputs": [],
   "source": [
    "X_train, X_test, y_train, y_test = train_test_split(trainx2, trainy, test_size=0.1)"
   ]
  },
  {
   "cell_type": "code",
   "execution_count": 13,
   "metadata": {},
   "outputs": [],
   "source": [
    "from tensorflow.keras import layers\n",
    "from tensorflow.keras import regularizers"
   ]
  },
  {
   "cell_type": "code",
   "execution_count": 14,
   "metadata": {
    "scrolled": true
   },
   "outputs": [
    {
     "name": "stdout",
     "output_type": "stream",
     "text": [
      "Epoch 1/20\n",
      "6917/6917 [==============================] - 53s 7ms/step - loss: 0.0250 - mean_squared_error: 0.0250 - val_loss: 0.0203 - val_mean_squared_error: 0.0203\n",
      "Epoch 2/20\n",
      "6917/6917 [==============================] - 53s 8ms/step - loss: 0.0168 - mean_squared_error: 0.0168 - val_loss: 0.0158 - val_mean_squared_error: 0.0158\n",
      "Epoch 3/20\n",
      "6917/6917 [==============================] - 49s 7ms/step - loss: 0.0125 - mean_squared_error: 0.0125 - val_loss: 0.0133 - val_mean_squared_error: 0.0133\n",
      "Epoch 4/20\n",
      "6917/6917 [==============================] - 48s 7ms/step - loss: 0.0098 - mean_squared_error: 0.0098 - val_loss: 0.0118 - val_mean_squared_error: 0.0118\n",
      "Epoch 5/20\n",
      "6917/6917 [==============================] - 47s 7ms/step - loss: 0.0078 - mean_squared_error: 0.0078 - val_loss: 0.0095 - val_mean_squared_error: 0.0095\n",
      "Epoch 6/20\n",
      "6917/6917 [==============================] - 42s 6ms/step - loss: 0.0065 - mean_squared_error: 0.0065 - val_loss: 0.0089 - val_mean_squared_error: 0.0089\n",
      "Epoch 7/20\n",
      "6917/6917 [==============================] - 47s 7ms/step - loss: 0.0056 - mean_squared_error: 0.0056 - val_loss: 0.0082 - val_mean_squared_error: 0.0082\n",
      "Epoch 8/20\n",
      "6917/6917 [==============================] - 52s 7ms/step - loss: 0.0050 - mean_squared_error: 0.0050 - val_loss: 0.0077 - val_mean_squared_error: 0.0077\n",
      "Epoch 9/20\n",
      "6917/6917 [==============================] - 48s 7ms/step - loss: 0.0043 - mean_squared_error: 0.0043 - val_loss: 0.0073 - val_mean_squared_error: 0.0073\n",
      "Epoch 10/20\n",
      "6917/6917 [==============================] - 50s 7ms/step - loss: 0.0040 - mean_squared_error: 0.0040 - val_loss: 0.0068 - val_mean_squared_error: 0.0068\n",
      "Epoch 11/20\n",
      "6917/6917 [==============================] - 55s 8ms/step - loss: 0.0035 - mean_squared_error: 0.0035 - val_loss: 0.0066 - val_mean_squared_error: 0.0066\n",
      "Epoch 12/20\n",
      "6917/6917 [==============================] - 53s 8ms/step - loss: 0.0036 - mean_squared_error: 0.0036 - val_loss: 0.0062 - val_mean_squared_error: 0.0062\n",
      "Epoch 13/20\n",
      "6917/6917 [==============================] - 53s 8ms/step - loss: 0.0030 - mean_squared_error: 0.0030 - val_loss: 0.0060 - val_mean_squared_error: 0.0060\n",
      "Epoch 14/20\n",
      "6917/6917 [==============================] - 56s 8ms/step - loss: 0.0028 - mean_squared_error: 0.0028 - val_loss: 0.0060 - val_mean_squared_error: 0.0060\n",
      "Epoch 15/20\n",
      "6917/6917 [==============================] - 56s 8ms/step - loss: 0.0025 - mean_squared_error: 0.0025 - val_loss: 0.0055 - val_mean_squared_error: 0.0055\n",
      "Epoch 16/20\n",
      "6917/6917 [==============================] - 52s 8ms/step - loss: 0.0024 - mean_squared_error: 0.0024 - val_loss: 0.0061 - val_mean_squared_error: 0.0061\n",
      "Epoch 17/20\n",
      "6917/6917 [==============================] - 55s 8ms/step - loss: 0.0023 - mean_squared_error: 0.0023 - val_loss: 0.0057 - val_mean_squared_error: 0.0057\n",
      "Epoch 18/20\n",
      "6917/6917 [==============================] - 55s 8ms/step - loss: 0.0021 - mean_squared_error: 0.0021 - val_loss: 0.0054 - val_mean_squared_error: 0.0054\n",
      "Epoch 19/20\n",
      "6917/6917 [==============================] - 53s 8ms/step - loss: 0.0020 - mean_squared_error: 0.0020 - val_loss: 0.0051 - val_mean_squared_error: 0.0051\n",
      "Epoch 20/20\n",
      "6917/6917 [==============================] - 55s 8ms/step - loss: 0.0019 - mean_squared_error: 0.0019 - val_loss: 0.0051 - val_mean_squared_error: 0.0051\n"
     ]
    }
   ],
   "source": [
    "model = keras.Sequential([\n",
    "    keras.layers.Flatten(input_shape=(832,1)),\n",
    "    keras.layers.Dense(512, activation = \"relu\"),\n",
    "    keras.layers.Dense(256, activation = \"relu\"),\n",
    "    keras.layers.Dense(256, activation = \"relu\"),\n",
    "    keras.layers.Dense(256, activation = \"relu\"),\n",
    "    keras.layers.Dense(128, activation = \"relu\"),\n",
    "    keras.layers.Dense(128, activation = \"relu\"),\n",
    "    keras.layers.Dense(128, activation = \"relu\"),\n",
    "    keras.layers.Dense(64, activation = \"relu\"),\n",
    "    keras.layers.Dense(32, activation = \"relu\"),\n",
    "    keras.layers.Dense(16, activation = \"relu\"),\n",
    "    keras.layers.Dense(8, activation = \"relu\"),\n",
    "    keras.layers.Dense(4, activation = \"relu\"),\n",
    "    keras.layers.Dense(1, activation = \"linear\")\n",
    "])\n",
    "\n",
    "#custom_optimizer=tf.keras.optimizers.SGD(learning_rate=0.02)\n",
    "\n",
    "\n",
    "model.compile(loss='mean_squared_error', optimizer = keras.optimizers.Adam(1e-3), metrics=['mean_squared_error'],)\n",
    "\n",
    "history = model.fit(X_train,y_train, epochs = 20, validation_split=0.2)"
   ]
  },
  {
   "cell_type": "code",
   "execution_count": 15,
   "metadata": {},
   "outputs": [],
   "source": [
    "history_df = pd.DataFrame(history.history)\n",
    "\n",
    "\n",
    "mse = history.history['mean_squared_error']\n",
    "val_mse = history.history['val_mean_squared_error']\n",
    "loss = history.history['loss']\n",
    "val_loss = history.history['val_loss']"
   ]
  },
  {
   "cell_type": "code",
   "execution_count": 16,
   "metadata": {},
   "outputs": [
    {
     "data": {
      "image/png": "[encoded data removed]",
      "text/plain": [
       "<Figure size 432x288 with 1 Axes>"
      ]
     },
     "metadata": {
      "needs_background": "light"
     },
     "output_type": "display_data"
    },
    {
     "data": {
      "image/png": "[encoded data removed]",
      "text/plain": [
       "<Figure size 432x288 with 1 Axes>"
      ]
     },
     "metadata": {
      "needs_background": "light"
     },
     "output_type": "display_data"
    }
   ],
   "source": [
    "epochs = range(1, len(mse) + 1)\n",
    "\n",
    "plt.plot(epochs, mse, 'bo', label='Training mse')\n",
    "plt.plot(epochs, val_mse, 'b', label='Validation mse')\n",
    "plt.title('Training and validation MSE')\n",
    "plt.legend()\n",
    "\n",
    "plt.figure()\n",
    "\n",
    "plt.plot(epochs, loss, 'bo', label='Training loss')\n",
    "plt.plot(epochs, val_loss, 'b', label='Validation loss')\n",
    "plt.title('Training and validation loss')\n",
    "plt.legend()\n",
    "\n",
    "plt.show()"
   ]
  },
  {
   "cell_type": "code",
   "execution_count": 17,
   "metadata": {},
   "outputs": [
    {
     "data": {
      "text/plain": [
       "<matplotlib.collections.PathCollection at 0x23114db2a30>"
      ]
     },
     "execution_count": 17,
     "metadata": {},
     "output_type": "execute_result"
    },
    {
     "data": {
      "image/png": "[encoded data removed]",
      "text/plain": [
       "<Figure size 432x288 with 1 Axes>"
      ]
     },
     "metadata": {
      "needs_background": "light"
     },
     "output_type": "display_data"
    }
   ],
   "source": [
    "plt.scatter(model.predict_on_batch(X_test),y_test,c='#88c999',s=0.1)"
   ]
  },
  {
   "cell_type": "code",
   "execution_count": 18,
   "metadata": {},
   "outputs": [],
   "source": [
    "#plt.scatter(model.predict_on_batch(X_test)[0],y_test[0])\n",
    "#y_test.iloc[0,1]\n",
    "#np.size(model.predict_on_batch(X_test)[:][0])\n",
    "#print(model.predict_on_batch(X_test)[3][0])\n"
   ]
  },
  {
   "cell_type": "code",
   "execution_count": 19,
   "metadata": {},
   "outputs": [
    {
     "name": "stdout",
     "output_type": "stream",
     "text": [
      "INFO:tensorflow:Assets written to: Models_middlegame_expanded_ELO\\assets\n"
     ]
    }
   ],
   "source": [
    "model.save('Models_middlegame_expanded_ELO')"
   ]
  },
  {
   "cell_type": "code",
   "execution_count": 22,
   "metadata": {},
   "outputs": [
    {
     "data": {
      "text/plain": [
       "0    3310.5\n",
       "dtype: float64"
      ]
     },
     "execution_count": 22,
     "metadata": {},
     "output_type": "execute_result"
    }
   ],
   "source": [
    "trainy.max()"
   ]
  }
 ],
 "metadata": {
  "kernelspec": {
   "display_name": "Python 3",
   "language": "python",
   "name": "python3"
  },
  "language_info": {
   "codemirror_mode": {
    "name": "ipython",
    "version": 3
   },
   "file_extension": ".py",
   "mimetype": "text/x-python",
   "name": "python",
   "nbconvert_exporter": "python",
   "pygments_lexer": "ipython3",
   "version": "3.8.5"
  }
 },
 "nbformat": 4,
 "nbformat_minor": 4
}
