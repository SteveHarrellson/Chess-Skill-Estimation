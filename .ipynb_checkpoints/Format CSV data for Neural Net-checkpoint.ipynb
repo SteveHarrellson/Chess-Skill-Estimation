{
 "cells": [
  {
   "cell_type": "code",
   "execution_count": 1,
   "metadata": {},
   "outputs": [],
   "source": [
    "import pandas as pd\n",
    "import numpy as np"
   ]
  },
  {
   "cell_type": "code",
   "execution_count": 2,
   "metadata": {},
   "outputs": [],
   "source": [
    "Data = pd.read_csv('Training Games\\\\Computers vs Humans.csv',index_col = 0)"
   ]
  },
  {
   "cell_type": "code",
   "execution_count": 3,
   "metadata": {},
   "outputs": [],
   "source": [
    "Piece_Dict = {\n",
    "    'p' : 1,\n",
    "    'b' : 2,\n",
    "    'n' : 3,\n",
    "    'r' : 4,\n",
    "    'q' : 5,\n",
    "    'k' : 6,\n",
    "    'P' :  7,\n",
    "    'B' :  8,\n",
    "    'N' :  9,\n",
    "    'R' :  10,\n",
    "    'Q' :  11,\n",
    "    'K' :  12\n",
    "}\n",
    "def fen_to_array(fen_str):\n",
    "    out_array = np.zeros((1,1))\n",
    "    for char in fen_str:\n",
    "        if char in Piece_Dict:\n",
    "            out_array = np.append(out_array,[Piece_Dict[char]])\n",
    "            \n",
    "        elif char == '/':\n",
    "            pass\n",
    "        \n",
    "        elif char.isnumeric():\n",
    "            out_array = np.append(out_array,np.zeros((int(char),1)))\n",
    "    \n",
    "    out_array = np.delete(out_array,(0))\n",
    "    return out_array\n",
    "\n",
    "def Hot_1_encoder(array_in):\n",
    "    New_array = np.zeros([np.shape(array_in)[0],np.shape(array_in)[1]*13])\n",
    "    for i in range(np.shape(array_in)[0]):\n",
    "        for j,val in enumerate(array_in[i]):\n",
    "            New_array[i,13*j+int(val)] = 1\n",
    "    return New_array"
   ]
  },
  {
   "cell_type": "code",
   "execution_count": 4,
   "metadata": {},
   "outputs": [],
   "source": [
    "FEN_Array = []\n",
    "for i,fen in enumerate(Data[\"Move FEN\"]):\n",
    "    FEN_Array.append(fen_to_array(fen))\n",
    "    \n",
    "hot1_array = Hot_1_encoder(FEN_Array)\n",
    "df_hot1 = pd.DataFrame(hot1_array)\n",
    "Merged_data = pd.concat([df_hot1, Data],axis = 1)\n",
    "Merged_data.to_csv('Training Games\\\\Computers vs Humans_hot1.csv')"
   ]
  }
 ],
 "metadata": {
  "kernelspec": {
   "display_name": "Python 3",
   "language": "python",
   "name": "python3"
  },
  "language_info": {
   "codemirror_mode": {
    "name": "ipython",
    "version": 3
   },
   "file_extension": ".py",
   "mimetype": "text/x-python",
   "name": "python",
   "nbconvert_exporter": "python",
   "pygments_lexer": "ipython3",
   "version": "3.8.5"
  }
 },
 "nbformat": 4,
 "nbformat_minor": 4
}
