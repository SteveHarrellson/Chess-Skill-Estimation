{
 "cells": [
  {
   "cell_type": "markdown",
   "metadata": {},
   "source": [
    "# Create Evenly Distributed Test Data"
   ]
  },
  {
   "cell_type": "markdown",
   "metadata": {},
   "source": [
    "Most games played on the FICS database are between players of moderate ELO, with low and high ELO values occuring relatively rarely.  I have prepared datasets by downloading games from each ELO bracket from August 2020 to August 2021.  For this dataset, only around 130 games were played between players of 2200-2399 ELO, so I take a maximum of 100 games from each bracket to use as test data for the model. "
   ]
  },
  {
   "cell_type": "code",
   "execution_count": 1,
   "metadata": {},
   "outputs": [],
   "source": [
    "import numpy as np\n",
    "import pandas as pd"
   ]
  },
  {
   "cell_type": "code",
   "execution_count": 2,
   "metadata": {},
   "outputs": [],
   "source": [
    "Standard_10 = 'Test Data\\\\Test_Data_Bulk\\\\Standard 1000-1199'\n",
    "Standard_12 = 'Test Data\\\\Test_Data_Bulk\\\\Standard 1200-1399'\n",
    "Standard_14 = 'Test Data\\\\Test_Data_Bulk\\\\Standard 1400-1599'\n",
    "Standard_16 = 'Test Data\\\\Test_Data_Bulk\\\\Standard 1600-1799'\n",
    "Standard_18 = 'Test Data\\\\Test_Data_Bulk\\\\Standard 1800-1999'\n",
    "Standard_20 = 'Test Data\\\\Test_Data_Bulk\\\\Standard 2000-2199'\n",
    "Standard_22 = 'Test Data\\\\Test_Data_Bulk\\\\Standard 2200-2399'\n",
    "Standard_24 = 'Test Data\\\\Test_Data_Bulk\\\\Standard 2400-2599'\n",
    "\n",
    "Data_Directory_List = [Standard_10,Standard_12,Standard_14,Standard_16,Standard_18,Standard_20,Standard_22,Standard_24]"
   ]
  },
  {
   "cell_type": "code",
   "execution_count": 3,
   "metadata": {},
   "outputs": [],
   "source": [
    "New_Test_Data = []\n",
    "\n",
    "\n",
    "for file in Data_Directory_List:\n",
    "    data = pd.read_csv(file + '\\\\hot1.csv')\n",
    "    New_Test_Data.append(data.iloc[0:100])\n",
    "    \n",
    "for df in New_Test_Data[1:]:\n",
    "    New_Test_Data[0] = New_Test_Data[0].append(df)\n"
   ]
  },
  {
   "cell_type": "code",
   "execution_count": 4,
   "metadata": {},
   "outputs": [],
   "source": [
    "New_Test_Data[0].to_csv('Test Data\\\\Curated_Test_Data.csv',index=False)"
   ]
  }
 ],
 "metadata": {
  "kernelspec": {
   "display_name": "Python 3",
   "language": "python",
   "name": "python3"
  },
  "language_info": {
   "codemirror_mode": {
    "name": "ipython",
    "version": 3
   },
   "file_extension": ".py",
   "mimetype": "text/x-python",
   "name": "python",
   "nbconvert_exporter": "python",
   "pygments_lexer": "ipython3",
   "version": "3.8.5"
  }
 },
 "nbformat": 4,
 "nbformat_minor": 4
}
